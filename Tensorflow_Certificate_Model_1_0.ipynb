{
  "nbformat": 4,
  "nbformat_minor": 0,
  "metadata": {
    "colab": {
      "name": "Tensorflow_Certificate_Model 1.0.ipynb",
      "provenance": [],
      "authorship_tag": "ABX9TyOEvVfy6LXzGiBiIKPCitLe",
      "include_colab_link": true
    },
    "kernelspec": {
      "name": "python3",
      "display_name": "Python 3"
    },
    "language_info": {
      "name": "python"
    },
    "gpuClass": "standard",
    "accelerator": "GPU"
  },
  "cells": [
    {
      "cell_type": "markdown",
      "metadata": {
        "id": "view-in-github",
        "colab_type": "text"
      },
      "source": [
        "<a href=\"https://colab.research.google.com/github/yiwenwangANU/Tensorflow_Certificate/blob/main/Tensorflow_Certificate_Model_1_0.ipynb\" target=\"_parent\"><img src=\"https://colab.research.google.com/assets/colab-badge.svg\" alt=\"Open In Colab\"/></a>"
      ]
    },
    {
      "cell_type": "markdown",
      "source": [
        "#Data"
      ],
      "metadata": {
        "id": "16ONbdxlR-4T"
      }
    },
    {
      "cell_type": "code",
      "source": [
        "import tensorflow as tf\n",
        "import numpy as np\n",
        "import pandas as pd\n",
        "from tensorflow.keras import layers\n",
        "import matplotlib.pyplot as plt\n",
        "from tensorflow.keras.preprocessing.image import ImageDataGenerator\n",
        "import zipfile"
      ],
      "metadata": {
        "id": "fjtGw7dIR8An"
      },
      "execution_count": 1,
      "outputs": []
    },
    {
      "cell_type": "code",
      "execution_count": 2,
      "metadata": {
        "colab": {
          "base_uri": "https://localhost:8080/"
        },
        "id": "5JFvnE38R1Y9",
        "outputId": "1f3d2b6b-c219-4a52-d3d4-09492c492a17"
      },
      "outputs": [
        {
          "output_type": "stream",
          "name": "stdout",
          "text": [
            "--2022-07-17 05:55:50--  https://storage.googleapis.com/ztm_tf_course/food_vision/pizza_steak.zip\n",
            "Resolving storage.googleapis.com (storage.googleapis.com)... 142.250.103.128, 108.177.120.128, 142.250.128.128, ...\n",
            "Connecting to storage.googleapis.com (storage.googleapis.com)|142.250.103.128|:443... connected.\n",
            "HTTP request sent, awaiting response... 200 OK\n",
            "Length: 109540975 (104M) [application/zip]\n",
            "Saving to: ‘pizza_steak.zip’\n",
            "\n",
            "pizza_steak.zip     100%[===================>] 104.47M   213MB/s    in 0.5s    \n",
            "\n",
            "2022-07-17 05:55:50 (213 MB/s) - ‘pizza_steak.zip’ saved [109540975/109540975]\n",
            "\n"
          ]
        }
      ],
      "source": [
        "!wget https://storage.googleapis.com/ztm_tf_course/food_vision/pizza_steak.zip \n",
        "\n",
        "# Unzip the downloaded file\n",
        "zip_ref = zipfile.ZipFile(\"pizza_steak.zip\", \"r\")\n",
        "zip_ref.extractall()\n",
        "zip_ref.close()"
      ]
    },
    {
      "cell_type": "markdown",
      "source": [
        "#Model"
      ],
      "metadata": {
        "id": "CuTXK0OkVPVs"
      }
    },
    {
      "cell_type": "code",
      "source": [
        "#input (batch, rows, columns, channel)\n",
        "#Conv2D (batch, new_rows, new_columns, filters)\n",
        "#MaxPool2D  (batch, pooled_rows, pooled_columns, channel)\n",
        "#Flatten  (batch, multi-all)  #GlobalMaxPool2D (batch, channel)\n",
        "#Dense (batch, units)"
      ],
      "metadata": {
        "id": "gAU6uDNRc5ke"
      },
      "execution_count": null,
      "outputs": []
    },
    {
      "cell_type": "code",
      "source": [
        "# Preprocess data (get all of the pixel values between 1 and 0, also called scaling/normalization)\n",
        "train_datagen = ImageDataGenerator(rotation_range=0.2,\n",
        "                                  #  width_shift_range=0.2,\n",
        "                                  #  height_shift_range=0.2,\n",
        "                                   shear_range=0.2,\n",
        "                                   zoom_range=0.2,\n",
        "                                   horizontal_flip=True,\n",
        "                                   rescale=1./255)\n",
        "\n",
        "valid_datagen = ImageDataGenerator(rescale=1./255)\n",
        "\n",
        "# Setup the train and test directories\n",
        "train_dir = \"pizza_steak/train/\"\n",
        "test_dir = \"pizza_steak/test/\"\n",
        "\n",
        "# Import data from directories and turn it into batches\n",
        "train_data = train_datagen.flow_from_directory(train_dir,\n",
        "                                               batch_size=32, # number of images to process at a time \n",
        "                                               target_size=(224, 224), # convert all images to be 224 x 224\n",
        "                                               class_mode=\"binary\") # type of problem we're working on\n",
        "                                               \n",
        "valid_data = valid_datagen.flow_from_directory(test_dir,\n",
        "                                               batch_size=32,\n",
        "                                               target_size=(224, 224),\n",
        "                                               class_mode=\"binary\")"
      ],
      "metadata": {
        "colab": {
          "base_uri": "https://localhost:8080/"
        },
        "id": "zfFXhhBQSC75",
        "outputId": "beff202e-51d0-4d1c-88bd-cf03c8a25a68"
      },
      "execution_count": 32,
      "outputs": [
        {
          "output_type": "stream",
          "name": "stdout",
          "text": [
            "Found 1500 images belonging to 2 classes.\n",
            "Found 500 images belonging to 2 classes.\n"
          ]
        }
      ]
    },
    {
      "cell_type": "code",
      "source": [
        "# Create a CNN model (same as Tiny VGG - https://poloclub.github.io/cnn-explainer/)\n",
        "model = tf.keras.models.Sequential([\n",
        "  layers.Conv2D(filters=10, \n",
        "                         kernel_size=3, # can also be (3, 3)\n",
        "                         activation=\"relu\", \n",
        "                         input_shape=(224, 224, 3)), # first layer specifies input shape (height, width, colour channels)\n",
        "  layers.Conv2D(10, 3, activation=\"relu\"),\n",
        "  layers.MaxPool2D(pool_size=2, # pool_size can also be (2, 2)\n",
        "                            padding=\"valid\"), # padding can also be 'same'\n",
        "  layers.Conv2D(10, 3, activation=\"relu\"),\n",
        "  layers.Conv2D(10, 3, activation=\"relu\"), # activation='relu' == layers.Activations(tf.nn.relu)\n",
        "  layers.MaxPool2D(2),\n",
        "  layers.Flatten(),\n",
        "  layers.Dropout(0.2),\n",
        "  layers.Dense(1, activation=\"sigmoid\") # binary activation output\n",
        "])"
      ],
      "metadata": {
        "id": "9pRAfIXkuZX1"
      },
      "execution_count": 33,
      "outputs": []
    },
    {
      "cell_type": "code",
      "source": [
        "model.summary()"
      ],
      "metadata": {
        "id": "YU7uaeIeu5dy",
        "outputId": "8d713baf-f8f4-4177-e1ce-0699fc2bfa4a",
        "colab": {
          "base_uri": "https://localhost:8080/"
        }
      },
      "execution_count": 21,
      "outputs": [
        {
          "output_type": "stream",
          "name": "stdout",
          "text": [
            "Model: \"sequential_3\"\n",
            "_________________________________________________________________\n",
            " Layer (type)                Output Shape              Param #   \n",
            "=================================================================\n",
            " conv2d_12 (Conv2D)          (None, 222, 222, 10)      280       \n",
            "                                                                 \n",
            " conv2d_13 (Conv2D)          (None, 220, 220, 10)      910       \n",
            "                                                                 \n",
            " max_pooling2d_6 (MaxPooling  (None, 110, 110, 10)     0         \n",
            " 2D)                                                             \n",
            "                                                                 \n",
            " conv2d_14 (Conv2D)          (None, 108, 108, 10)      910       \n",
            "                                                                 \n",
            " conv2d_15 (Conv2D)          (None, 106, 106, 10)      910       \n",
            "                                                                 \n",
            " max_pooling2d_7 (MaxPooling  (None, 53, 53, 10)       0         \n",
            " 2D)                                                             \n",
            "                                                                 \n",
            " flatten_3 (Flatten)         (None, 28090)             0         \n",
            "                                                                 \n",
            " dense_3 (Dense)             (None, 1)                 28091     \n",
            "                                                                 \n",
            "=================================================================\n",
            "Total params: 31,101\n",
            "Trainable params: 31,101\n",
            "Non-trainable params: 0\n",
            "_________________________________________________________________\n"
          ]
        }
      ]
    },
    {
      "cell_type": "code",
      "source": [
        "# Compile the model\n",
        "model.compile(loss=\"binary_crossentropy\",\n",
        "              optimizer=tf.keras.optimizers.Adam(),\n",
        "              metrics=[\"accuracy\"])"
      ],
      "metadata": {
        "id": "0jDaCgW1SEfy"
      },
      "execution_count": 34,
      "outputs": []
    },
    {
      "cell_type": "code",
      "source": [
        "# Fit the model\n",
        "history = model.fit(train_data,\n",
        "                    epochs=10,\n",
        "                    validation_data=valid_data,\n",
        "                    validation_steps=len(valid_data),\n",
        "                    callbacks=[tf.keras.callbacks.EarlyStopping(monitor=\"val_loss\", patience=4, restore_best_weights=True),\n",
        "                               tf.keras.callbacks.ReduceLROnPlateau(monitor=\"val_loss\", patience=2, verbose=1)])"
      ],
      "metadata": {
        "colab": {
          "base_uri": "https://localhost:8080/"
        },
        "id": "yy_punvESGJu",
        "outputId": "1fb731f5-ebf7-4035-86fd-926bac7509c3"
      },
      "execution_count": 35,
      "outputs": [
        {
          "output_type": "stream",
          "name": "stdout",
          "text": [
            "Epoch 1/10\n",
            "47/47 [==============================] - 23s 469ms/step - loss: 0.5745 - accuracy: 0.6700 - val_loss: 0.4016 - val_accuracy: 0.8260 - lr: 0.0010\n",
            "Epoch 2/10\n",
            "47/47 [==============================] - 23s 480ms/step - loss: 0.4545 - accuracy: 0.7960 - val_loss: 0.3757 - val_accuracy: 0.8420 - lr: 0.0010\n",
            "Epoch 3/10\n",
            "47/47 [==============================] - 22s 459ms/step - loss: 0.4282 - accuracy: 0.8060 - val_loss: 0.3384 - val_accuracy: 0.8540 - lr: 0.0010\n",
            "Epoch 4/10\n",
            "47/47 [==============================] - 22s 459ms/step - loss: 0.4232 - accuracy: 0.8087 - val_loss: 0.3970 - val_accuracy: 0.8320 - lr: 0.0010\n",
            "Epoch 5/10\n",
            "47/47 [==============================] - ETA: 0s - loss: 0.4237 - accuracy: 0.8140\n",
            "Epoch 5: ReduceLROnPlateau reducing learning rate to 0.00010000000474974513.\n",
            "47/47 [==============================] - 22s 461ms/step - loss: 0.4237 - accuracy: 0.8140 - val_loss: 0.3486 - val_accuracy: 0.8600 - lr: 0.0010\n",
            "Epoch 6/10\n",
            "47/47 [==============================] - 23s 481ms/step - loss: 0.3971 - accuracy: 0.8267 - val_loss: 0.3208 - val_accuracy: 0.8740 - lr: 1.0000e-04\n",
            "Epoch 7/10\n",
            "47/47 [==============================] - 22s 460ms/step - loss: 0.3773 - accuracy: 0.8333 - val_loss: 0.3103 - val_accuracy: 0.8700 - lr: 1.0000e-04\n",
            "Epoch 8/10\n",
            "47/47 [==============================] - 22s 464ms/step - loss: 0.3746 - accuracy: 0.8420 - val_loss: 0.3111 - val_accuracy: 0.8760 - lr: 1.0000e-04\n",
            "Epoch 9/10\n",
            "47/47 [==============================] - 22s 462ms/step - loss: 0.3700 - accuracy: 0.8387 - val_loss: 0.3052 - val_accuracy: 0.8720 - lr: 1.0000e-04\n",
            "Epoch 10/10\n",
            "47/47 [==============================] - 22s 461ms/step - loss: 0.3681 - accuracy: 0.8487 - val_loss: 0.3074 - val_accuracy: 0.8760 - lr: 1.0000e-04\n"
          ]
        }
      ]
    },
    {
      "cell_type": "code",
      "source": [
        "model.evaluate(valid_data)"
      ],
      "metadata": {
        "id": "YSXZOSkewnAt",
        "outputId": "76ed60b1-c883-43d3-8c6b-9d2b12451163",
        "colab": {
          "base_uri": "https://localhost:8080/"
        }
      },
      "execution_count": 36,
      "outputs": [
        {
          "output_type": "stream",
          "name": "stdout",
          "text": [
            "16/16 [==============================] - 2s 143ms/step - loss: 0.3074 - accuracy: 0.8760\n"
          ]
        },
        {
          "output_type": "execute_result",
          "data": {
            "text/plain": [
              "[0.3073863685131073, 0.8759999871253967]"
            ]
          },
          "metadata": {},
          "execution_count": 36
        }
      ]
    },
    {
      "cell_type": "code",
      "source": [
        "pd.DataFrame(history.history).plot()"
      ],
      "metadata": {
        "colab": {
          "base_uri": "https://localhost:8080/",
          "height": 283
        },
        "id": "Q5wDkqDLTgzJ",
        "outputId": "241c1490-d3cc-4c84-90b9-73064a16f03b"
      },
      "execution_count": 37,
      "outputs": [
        {
          "output_type": "execute_result",
          "data": {
            "text/plain": [
              "<matplotlib.axes._subplots.AxesSubplot at 0x7f52ab68ecd0>"
            ]
          },
          "metadata": {},
          "execution_count": 37
        },
        {
          "output_type": "display_data",
          "data": {
            "text/plain": [
              "<Figure size 432x288 with 1 Axes>"
            ],
            "image/png": "[encoded data removed]"
          },
          "metadata": {
            "needs_background": "light"
          }
        }
      ]
    },
    {
      "cell_type": "code",
      "source": [
        "model.save(\"model.h5\")"
      ],
      "metadata": {
        "id": "geIot3oQTn4s"
      },
      "execution_count": null,
      "outputs": []
    }
  ]
}