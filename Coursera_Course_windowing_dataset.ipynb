{
  "nbformat": 4,
  "nbformat_minor": 0,
  "metadata": {
    "colab": {
      "name": "Coursera Course windowing dataset.ipynb",
      "provenance": [],
      "collapsed_sections": [],
      "authorship_tag": "ABX9TyPRZZj5EBFrqAN9AKnOInqa",
      "include_colab_link": true
    },
    "kernelspec": {
      "name": "python3",
      "display_name": "Python 3"
    },
    "language_info": {
      "name": "python"
    }
  },
  "cells": [
    {
      "cell_type": "markdown",
      "metadata": {
        "id": "view-in-github",
        "colab_type": "text"
      },
      "source": [
        "<a href=\"https://colab.research.google.com/github/yiwenwangANU/Tensorflow_Certificate/blob/main/Coursera_Course_windowing_dataset.ipynb\" target=\"_parent\"><img src=\"https://colab.research.google.com/assets/colab-badge.svg\" alt=\"Open In Colab\"/></a>"
      ]
    },
    {
      "cell_type": "code",
      "execution_count": 1,
      "metadata": {
        "id": "xKKxEqoX_2Ss"
      },
      "outputs": [],
      "source": [
        "import tensorflow as tf\n",
        "import pandas as pd\n",
        "import numpy as np\n",
        "import matplotlib.pyplot as plt\n",
        "from tensorflow.keras import layers"
      ]
    },
    {
      "cell_type": "code",
      "source": [
        "dataset = tf.data.Dataset.range(10)\n",
        "for val in dataset:\n",
        "  print(val.numpy(), end='')"
      ],
      "metadata": {
        "colab": {
          "base_uri": "https://localhost:8080/"
        },
        "id": "205lhxAsnqyR",
        "outputId": "fa25aba0-1fcc-4346-9b54-31fea0d98416"
      },
      "execution_count": 11,
      "outputs": [
        {
          "output_type": "stream",
          "name": "stdout",
          "text": [
            "0123456789"
          ]
        }
      ]
    },
    {
      "cell_type": "code",
      "source": [
        "dataset = tf.data.Dataset.range(10)\n",
        "dataset = dataset.window(5, shift=1)\n",
        "for windowed_dataset in dataset:\n",
        "  for val in windowed_dataset:\n",
        "    print(val.numpy(), end='')\n",
        "  print()"
      ],
      "metadata": {
        "colab": {
          "base_uri": "https://localhost:8080/"
        },
        "id": "K-Pbq_l2nyQU",
        "outputId": "e1ef746d-af57-4321-9865-d419e5c8def8"
      },
      "execution_count": 15,
      "outputs": [
        {
          "output_type": "stream",
          "name": "stdout",
          "text": [
            "01234\n",
            "12345\n",
            "23456\n",
            "34567\n",
            "45678\n",
            "56789\n",
            "6789\n",
            "789\n",
            "89\n",
            "9\n"
          ]
        }
      ]
    },
    {
      "cell_type": "code",
      "source": [
        "dataset = tf.data.Dataset.range(10)\n",
        "dataset = dataset.window(5, shift=1, drop_remainder=True)\n",
        "for windowed_dataset in dataset:\n",
        "  for val in windowed_dataset:\n",
        "    print(val.numpy(), end='')\n",
        "  print()"
      ],
      "metadata": {
        "colab": {
          "base_uri": "https://localhost:8080/"
        },
        "id": "jV-jmywMpP3U",
        "outputId": "44e0b56b-d616-4b69-b178-24b5012db83f"
      },
      "execution_count": 16,
      "outputs": [
        {
          "output_type": "stream",
          "name": "stdout",
          "text": [
            "01234\n",
            "12345\n",
            "23456\n",
            "34567\n",
            "45678\n",
            "56789\n"
          ]
        }
      ]
    },
    {
      "cell_type": "code",
      "source": [
        "dataset = tf.data.Dataset.range(10)\n",
        "dataset = dataset.batch(5)\n",
        "for batch in dataset:\n",
        "  print(batch)"
      ],
      "metadata": {
        "colab": {
          "base_uri": "https://localhost:8080/"
        },
        "id": "k4UeygJXqRz_",
        "outputId": "1a36ae00-c550-49aa-e968-43d19d4d0ddb"
      },
      "execution_count": 21,
      "outputs": [
        {
          "output_type": "stream",
          "name": "stdout",
          "text": [
            "tf.Tensor([0 1 2 3 4], shape=(5,), dtype=int64)\n",
            "tf.Tensor([5 6 7 8 9], shape=(5,), dtype=int64)\n"
          ]
        }
      ]
    },
    {
      "cell_type": "code",
      "source": [
        "dataset = tf.data.Dataset.range(10)\n",
        "dataset = dataset.window(5, shift=1, drop_remainder=True)\n",
        "dataset = dataset.flat_map(lambda window: window.batch(5))\n",
        "for window in dataset:\n",
        "  print(window)"
      ],
      "metadata": {
        "colab": {
          "base_uri": "https://localhost:8080/"
        },
        "id": "dQEQrRf8pnyd",
        "outputId": "9a7601fe-6f4b-4b4f-a32f-39cd58dce621"
      },
      "execution_count": 27,
      "outputs": [
        {
          "output_type": "stream",
          "name": "stdout",
          "text": [
            "tf.Tensor([0 1 2 3 4], shape=(5,), dtype=int64)\n",
            "tf.Tensor([1 2 3 4 5], shape=(5,), dtype=int64)\n",
            "tf.Tensor([2 3 4 5 6], shape=(5,), dtype=int64)\n",
            "tf.Tensor([3 4 5 6 7], shape=(5,), dtype=int64)\n",
            "tf.Tensor([4 5 6 7 8], shape=(5,), dtype=int64)\n",
            "tf.Tensor([5 6 7 8 9], shape=(5,), dtype=int64)\n"
          ]
        }
      ]
    },
    {
      "cell_type": "code",
      "source": [
        "dataset = tf.data.Dataset.range(10)\n",
        "dataset = dataset.window(5, shift=1, drop_remainder=True)\n",
        "dataset = dataset.flat_map(lambda window: window.batch(5))\n",
        "dataset = dataset.map(lambda window: (window[:-1], window[-1]))\n",
        "for X, y in dataset:\n",
        "  print(X, y)"
      ],
      "metadata": {
        "colab": {
          "base_uri": "https://localhost:8080/"
        },
        "id": "kNhHXqOBqGCe",
        "outputId": "ff4208d8-9c2a-4585-b103-58b337ae5a13"
      },
      "execution_count": 31,
      "outputs": [
        {
          "output_type": "stream",
          "name": "stdout",
          "text": [
            "tf.Tensor([0 1 2 3], shape=(4,), dtype=int64) tf.Tensor(4, shape=(), dtype=int64)\n",
            "tf.Tensor([1 2 3 4], shape=(4,), dtype=int64) tf.Tensor(5, shape=(), dtype=int64)\n",
            "tf.Tensor([2 3 4 5], shape=(4,), dtype=int64) tf.Tensor(6, shape=(), dtype=int64)\n",
            "tf.Tensor([3 4 5 6], shape=(4,), dtype=int64) tf.Tensor(7, shape=(), dtype=int64)\n",
            "tf.Tensor([4 5 6 7], shape=(4,), dtype=int64) tf.Tensor(8, shape=(), dtype=int64)\n",
            "tf.Tensor([5 6 7 8], shape=(4,), dtype=int64) tf.Tensor(9, shape=(), dtype=int64)\n"
          ]
        }
      ]
    },
    {
      "cell_type": "code",
      "source": [
        "dataset = tf.data.Dataset.range(10)\n",
        "dataset = dataset.window(5, shift=1, drop_remainder=True)\n",
        "dataset = dataset.flat_map(lambda window: window.batch(5))\n",
        "dataset = dataset.map(lambda window: (window[:-1], window[-1]))\n",
        "dataset = dataset.shuffle(buffer_size=10)\n",
        "for X, y in dataset:\n",
        "  print(X, y)"
      ],
      "metadata": {
        "colab": {
          "base_uri": "https://localhost:8080/"
        },
        "id": "szojI4m-toVH",
        "outputId": "9827c692-aef9-43bc-a997-59ad62e74c46"
      },
      "execution_count": 32,
      "outputs": [
        {
          "output_type": "stream",
          "name": "stdout",
          "text": [
            "tf.Tensor([0 1 2 3], shape=(4,), dtype=int64) tf.Tensor(4, shape=(), dtype=int64)\n",
            "tf.Tensor([5 6 7 8], shape=(4,), dtype=int64) tf.Tensor(9, shape=(), dtype=int64)\n",
            "tf.Tensor([2 3 4 5], shape=(4,), dtype=int64) tf.Tensor(6, shape=(), dtype=int64)\n",
            "tf.Tensor([4 5 6 7], shape=(4,), dtype=int64) tf.Tensor(8, shape=(), dtype=int64)\n",
            "tf.Tensor([1 2 3 4], shape=(4,), dtype=int64) tf.Tensor(5, shape=(), dtype=int64)\n",
            "tf.Tensor([3 4 5 6], shape=(4,), dtype=int64) tf.Tensor(7, shape=(), dtype=int64)\n"
          ]
        }
      ]
    },
    {
      "cell_type": "code",
      "source": [
        "dataset = tf.data.Dataset.range(10)\n",
        "dataset = dataset.window(5, shift=1, drop_remainder=True)\n",
        "dataset = dataset.flat_map(lambda window: window.batch(5))\n",
        "dataset = dataset.map(lambda window: (window[:-1], window[-1]))\n",
        "dataset = dataset.shuffle(buffer_size=2)\n",
        "dataset = dataset.batch(2).prefetch(tf.data.AUTOTUNE)\n",
        "for X, y in dataset:\n",
        "  print(X, y)"
      ],
      "metadata": {
        "colab": {
          "base_uri": "https://localhost:8080/"
        },
        "id": "AaK5Dk93uGHS",
        "outputId": "406d7493-d753-41d3-c6e0-4c4c135cd566"
      },
      "execution_count": 34,
      "outputs": [
        {
          "output_type": "stream",
          "name": "stdout",
          "text": [
            "tf.Tensor(\n",
            "[[0 1 2 3]\n",
            " [2 3 4 5]], shape=(2, 4), dtype=int64) tf.Tensor([4 6], shape=(2,), dtype=int64)\n",
            "tf.Tensor(\n",
            "[[1 2 3 4]\n",
            " [4 5 6 7]], shape=(2, 4), dtype=int64) tf.Tensor([5 8], shape=(2,), dtype=int64)\n",
            "tf.Tensor(\n",
            "[[5 6 7 8]\n",
            " [3 4 5 6]], shape=(2, 4), dtype=int64) tf.Tensor([9 7], shape=(2,), dtype=int64)\n"
          ]
        }
      ]
    },
    {
      "cell_type": "code",
      "source": [
        "def windowed_dataset(series, window_size, batch_size, shuffle_buffer):\n",
        "  dataset = tf.data.Dataset.from_tensor_slices(series)\n",
        "  dataset = dataset.window(window_size+1, shift=1, drop_remainder=True)\n",
        "  dataset = dataset.flat_map(lambda window: window.batch(window_size+1))\n",
        "  dataset = dataset.map(lambda window: (window[:-1], window[-1]))\n",
        "  dataset = dataset.shuffle(buffer_size=shuffle_buffer)\n",
        "  dataset = dataset.batch(batch_size).prefetch(tf.data.AUTOTUNE)\n",
        "  return dataset"
      ],
      "metadata": {
        "id": "cs_5iL1AuWtV"
      },
      "execution_count": 42,
      "outputs": []
    },
    {
      "cell_type": "code",
      "source": [
        "dataset = windowed_dataset(tf.range(10),\n",
        "                            window_size=4,\n",
        "                            batch_size=2,\n",
        "                            shuffle_buffer=2)\n",
        "for X, y in dataset:\n",
        "  print(X, y)"
      ],
      "metadata": {
        "colab": {
          "base_uri": "https://localhost:8080/"
        },
        "id": "wfCSx1SHwVb0",
        "outputId": "088ca71e-3ae1-4a76-85af-e969b8869a16"
      },
      "execution_count": 44,
      "outputs": [
        {
          "output_type": "stream",
          "name": "stdout",
          "text": [
            "tf.Tensor(\n",
            "[[1 2 3 4]\n",
            " [0 1 2 3]], shape=(2, 4), dtype=int32) tf.Tensor([5 4], shape=(2,), dtype=int32)\n",
            "tf.Tensor(\n",
            "[[3 4 5 6]\n",
            " [4 5 6 7]], shape=(2, 4), dtype=int32) tf.Tensor([7 8], shape=(2,), dtype=int32)\n",
            "tf.Tensor(\n",
            "[[2 3 4 5]\n",
            " [5 6 7 8]], shape=(2, 4), dtype=int32) tf.Tensor([6 9], shape=(2,), dtype=int32)\n"
          ]
        }
      ]
    }
  ]
}