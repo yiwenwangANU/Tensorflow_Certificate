{
  "cells": [
    {
      "cell_type": "markdown",
      "metadata": {
        "id": "view-in-github",
        "colab_type": "text"
      },
      "source": [
        "<a href=\"https://colab.research.google.com/github/yiwenwangANU/Tensorflow_Certificate/blob/main/Image_Classification(Fishion_Mnist_dataset%2C_don't_forget_rescaling_layer).ipynb\" target=\"_parent\"><img src=\"https://colab.research.google.com/assets/colab-badge.svg\" alt=\"Open In Colab\"/></a>"
      ]
    },
    {
      "cell_type": "code",
      "execution_count": null,
      "metadata": {
        "id": "XNHCr6y0IBgG"
      },
      "outputs": [],
      "source": [
        "import tensorflow as tf\n",
        "import numpy as np\n",
        "import matplotlib.pyplot as plt\n",
        "from tensorflow.keras import layers"
      ]
    },
    {
      "cell_type": "code",
      "execution_count": null,
      "metadata": {
        "colab": {
          "base_uri": "https://localhost:8080/"
        },
        "id": "fYLN20MnIUDD",
        "outputId": "fc63a448-ab64-456f-dcdf-2717adcfebff"
      },
      "outputs": [
        {
          "name": "stdout",
          "output_type": "stream",
          "text": [
            "Downloading data from https://storage.googleapis.com/tensorflow/tf-keras-datasets/train-labels-idx1-ubyte.gz\n",
            "32768/29515 [=================================] - 0s 0us/step\n",
            "40960/29515 [=========================================] - 0s 0us/step\n",
            "Downloading data from https://storage.googleapis.com/tensorflow/tf-keras-datasets/train-images-idx3-ubyte.gz\n",
            "26427392/26421880 [==============================] - 0s 0us/step\n",
            "26435584/26421880 [==============================] - 0s 0us/step\n",
            "Downloading data from https://storage.googleapis.com/tensorflow/tf-keras-datasets/t10k-labels-idx1-ubyte.gz\n",
            "16384/5148 [===============================================================================================] - 0s 0us/step\n",
            "Downloading data from https://storage.googleapis.com/tensorflow/tf-keras-datasets/t10k-images-idx3-ubyte.gz\n",
            "4423680/4422102 [==============================] - 0s 0us/step\n",
            "4431872/4422102 [==============================] - 0s 0us/step\n"
          ]
        }
      ],
      "source": [
        "fashion_mnist = tf.keras.datasets.fashion_mnist\n",
        "(train_images, train_labels), (test_images, test_labels) = fashion_mnist.load_data()"
      ]
    },
    {
      "cell_type": "code",
      "execution_count": null,
      "metadata": {
        "colab": {
          "base_uri": "https://localhost:8080/"
        },
        "id": "ZZxP53V8IVOx",
        "outputId": "ac8c5283-a690-4b9a-bffa-b1598464c4f6"
      },
      "outputs": [
        {
          "data": {
            "text/plain": [
              "((60000, 28, 28), (60000,))"
            ]
          },
          "execution_count": 3,
          "metadata": {},
          "output_type": "execute_result"
        }
      ],
      "source": [
        "train_images.shape, train_labels.shape"
      ]
    },
    {
      "cell_type": "code",
      "execution_count": null,
      "metadata": {
        "colab": {
          "base_uri": "https://localhost:8080/"
        },
        "id": "oDcs5_f9Iaa7",
        "outputId": "d8f80e4c-2d0d-423d-d5db-11306216880b"
      },
      "outputs": [
        {
          "data": {
            "text/plain": [
              "{0, 1, 2, 3, 4, 5, 6, 7, 8, 9}"
            ]
          },
          "execution_count": 4,
          "metadata": {},
          "output_type": "execute_result"
        }
      ],
      "source": [
        "set(train_labels)"
      ]
    },
    {
      "cell_type": "code",
      "execution_count": 10,
      "metadata": {
        "colab": {
          "base_uri": "https://localhost:8080/"
        },
        "id": "F30BUvkAIcvG",
        "outputId": "39d17e64-e5d1-4766-a367-5352634a5804"
      },
      "outputs": [
        {
          "output_type": "stream",
          "name": "stdout",
          "text": [
            "Model: \"sequential_3\"\n",
            "_________________________________________________________________\n",
            " Layer (type)                Output Shape              Param #   \n",
            "=================================================================\n",
            " rescaling_1 (Rescaling)     (None, 28, 28)            0         \n",
            "                                                                 \n",
            " flatten_2 (Flatten)         (None, 784)               0         \n",
            "                                                                 \n",
            " dense_6 (Dense)             (None, 128)               100480    \n",
            "                                                                 \n",
            " dense_7 (Dense)             (None, 10)                1290      \n",
            "                                                                 \n",
            "=================================================================\n",
            "Total params: 101,770\n",
            "Trainable params: 101,770\n",
            "Non-trainable params: 0\n",
            "_________________________________________________________________\n"
          ]
        }
      ],
      "source": [
        "model = tf.keras.Sequential([\n",
        "  tf.keras.Input(shape=(28, 28)),\n",
        "  layers.Rescaling(scale=1./255),                           \n",
        "  layers.Flatten(),\n",
        "  layers.Dense(128, activation='relu'),\n",
        "  layers.Dense(10)                             \n",
        "])\n",
        "model.summary()"
      ]
    },
    {
      "cell_type": "code",
      "execution_count": 11,
      "metadata": {
        "colab": {
          "base_uri": "https://localhost:8080/"
        },
        "id": "0yaaRprwJX0Q",
        "outputId": "87002007-b539-4f5c-9eb6-643e17a6d87e"
      },
      "outputs": [
        {
          "output_type": "stream",
          "name": "stdout",
          "text": [
            "Epoch 1/20\n",
            "1875/1875 [==============================] - 5s 3ms/step - loss: 0.4933 - accuracy: 0.8266 - val_loss: 0.4273 - val_accuracy: 0.8472 - lr: 0.0010\n",
            "Epoch 2/20\n",
            "1875/1875 [==============================] - 5s 2ms/step - loss: 0.3750 - accuracy: 0.8635 - val_loss: 0.3982 - val_accuracy: 0.8556 - lr: 0.0010\n",
            "Epoch 3/20\n",
            "1875/1875 [==============================] - 5s 2ms/step - loss: 0.3371 - accuracy: 0.8778 - val_loss: 0.3848 - val_accuracy: 0.8630 - lr: 0.0010\n",
            "Epoch 4/20\n",
            "1875/1875 [==============================] - 5s 2ms/step - loss: 0.3140 - accuracy: 0.8850 - val_loss: 0.3632 - val_accuracy: 0.8688 - lr: 0.0010\n",
            "Epoch 5/20\n",
            "1875/1875 [==============================] - 5s 2ms/step - loss: 0.2948 - accuracy: 0.8909 - val_loss: 0.3597 - val_accuracy: 0.8721 - lr: 0.0010\n",
            "Epoch 6/20\n",
            "1875/1875 [==============================] - 5s 2ms/step - loss: 0.2812 - accuracy: 0.8968 - val_loss: 0.3642 - val_accuracy: 0.8733 - lr: 0.0010\n",
            "Epoch 7/20\n",
            "1875/1875 [==============================] - 5s 2ms/step - loss: 0.2697 - accuracy: 0.9005 - val_loss: 0.3511 - val_accuracy: 0.8752 - lr: 0.0010\n",
            "Epoch 8/20\n",
            "1875/1875 [==============================] - 5s 2ms/step - loss: 0.2578 - accuracy: 0.9035 - val_loss: 0.3262 - val_accuracy: 0.8858 - lr: 0.0010\n",
            "Epoch 9/20\n",
            "1875/1875 [==============================] - 5s 2ms/step - loss: 0.2491 - accuracy: 0.9076 - val_loss: 0.3387 - val_accuracy: 0.8805 - lr: 0.0010\n",
            "Epoch 10/20\n",
            "1867/1875 [============================>.] - ETA: 0s - loss: 0.2387 - accuracy: 0.9110\n",
            "Epoch 10: ReduceLROnPlateau reducing learning rate to 0.00010000000474974513.\n",
            "1875/1875 [==============================] - 5s 2ms/step - loss: 0.2389 - accuracy: 0.9109 - val_loss: 0.3355 - val_accuracy: 0.8832 - lr: 0.0010\n",
            "Epoch 11/20\n",
            "1875/1875 [==============================] - 5s 2ms/step - loss: 0.1977 - accuracy: 0.9266 - val_loss: 0.3112 - val_accuracy: 0.8939 - lr: 1.0000e-04\n",
            "Epoch 12/20\n",
            "1875/1875 [==============================] - 5s 2ms/step - loss: 0.1916 - accuracy: 0.9293 - val_loss: 0.3103 - val_accuracy: 0.8943 - lr: 1.0000e-04\n",
            "Epoch 13/20\n",
            "1875/1875 [==============================] - 5s 2ms/step - loss: 0.1886 - accuracy: 0.9301 - val_loss: 0.3097 - val_accuracy: 0.8929 - lr: 1.0000e-04\n",
            "Epoch 14/20\n",
            "1875/1875 [==============================] - 5s 2ms/step - loss: 0.1861 - accuracy: 0.9315 - val_loss: 0.3102 - val_accuracy: 0.8948 - lr: 1.0000e-04\n",
            "Epoch 15/20\n",
            "1875/1875 [==============================] - 5s 2ms/step - loss: 0.1848 - accuracy: 0.9320 - val_loss: 0.3081 - val_accuracy: 0.8949 - lr: 1.0000e-04\n",
            "Epoch 16/20\n",
            "1875/1875 [==============================] - 5s 2ms/step - loss: 0.1824 - accuracy: 0.9329 - val_loss: 0.3102 - val_accuracy: 0.8942 - lr: 1.0000e-04\n",
            "Epoch 17/20\n",
            "1873/1875 [============================>.] - ETA: 0s - loss: 0.1808 - accuracy: 0.9331\n",
            "Epoch 17: ReduceLROnPlateau reducing learning rate to 1.0000000474974514e-05.\n",
            "1875/1875 [==============================] - 4s 2ms/step - loss: 0.1808 - accuracy: 0.9331 - val_loss: 0.3104 - val_accuracy: 0.8926 - lr: 1.0000e-04\n",
            "Epoch 18/20\n",
            "1875/1875 [==============================] - 5s 2ms/step - loss: 0.1755 - accuracy: 0.9360 - val_loss: 0.3078 - val_accuracy: 0.8958 - lr: 1.0000e-05\n",
            "Epoch 19/20\n",
            "1875/1875 [==============================] - 5s 2ms/step - loss: 0.1747 - accuracy: 0.9364 - val_loss: 0.3081 - val_accuracy: 0.8967 - lr: 1.0000e-05\n",
            "Epoch 20/20\n",
            "1857/1875 [============================>.] - ETA: 0s - loss: 0.1745 - accuracy: 0.9368\n",
            "Epoch 20: ReduceLROnPlateau reducing learning rate to 1.0000000656873453e-06.\n",
            "1875/1875 [==============================] - 5s 3ms/step - loss: 0.1744 - accuracy: 0.9368 - val_loss: 0.3077 - val_accuracy: 0.8957 - lr: 1.0000e-05\n"
          ]
        }
      ],
      "source": [
        "model.compile(loss=tf.keras.losses.SparseCategoricalCrossentropy(from_logits=True),\n",
        "              optimizer=tf.keras.optimizers.Adam(),\n",
        "              metrics=['accuracy'])\n",
        "history = model.fit(train_images,\n",
        "                    train_labels,\n",
        "                    epochs=20,\n",
        "                    validation_data=(test_images, test_labels),\n",
        "                    callbacks=[tf.keras.callbacks.EarlyStopping(monitor=\"val_loss\", patience=4, restore_best_weights=True),\n",
        "                               tf.keras.callbacks.ReduceLROnPlateau(monitor=\"val_loss\", patience=2, verbose=1)])"
      ]
    }
  ],
  "metadata": {
    "accelerator": "GPU",
    "colab": {
      "name": "Image_Classification(Fishion_Mnist dataset, don't forget rescaling layer).ipynb",
      "provenance": [],
      "authorship_tag": "ABX9TyNAD0w/qWQvtazo7p/0KVPT",
      "include_colab_link": true
    },
    "gpuClass": "standard",
    "kernelspec": {
      "display_name": "Python 3",
      "name": "python3"
    },
    "language_info": {
      "name": "python"
    }
  },
  "nbformat": 4,
  "nbformat_minor": 0
}