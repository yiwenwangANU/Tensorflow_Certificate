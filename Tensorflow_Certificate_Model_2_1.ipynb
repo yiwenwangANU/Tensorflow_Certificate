{
  "nbformat": 4,
  "nbformat_minor": 0,
  "metadata": {
    "colab": {
      "name": "Tensorflow_Certificate_Model_2.1.ipynb",
      "provenance": [],
      "collapsed_sections": [],
      "authorship_tag": "ABX9TyPVRjMe4xh6tAVT1AGakyjA",
      "include_colab_link": true
    },
    "kernelspec": {
      "name": "python3",
      "display_name": "Python 3"
    },
    "language_info": {
      "name": "python"
    }
  },
  "cells": [
    {
      "cell_type": "markdown",
      "metadata": {
        "id": "view-in-github",
        "colab_type": "text"
      },
      "source": [
        "<a href=\"https://colab.research.google.com/github/yiwenwangANU/Tensorflow_Certificate/blob/main/Tensorflow_Certificate_Model_2_1.ipynb\" target=\"_parent\"><img src=\"https://colab.research.google.com/assets/colab-badge.svg\" alt=\"Open In Colab\"/></a>"
      ]
    },
    {
      "cell_type": "markdown",
      "source": [
        "#Bidirectional LSTM with Concatenated model"
      ],
      "metadata": {
        "id": "RbGWOOpk3c5W"
      }
    },
    {
      "cell_type": "code",
      "execution_count": 1,
      "metadata": {
        "id": "_q8RxA8s0BZU"
      },
      "outputs": [],
      "source": [
        "import tensorflow as tf\n",
        "import numpy as np\n",
        "import pandas as pd\n",
        "import matplotlib.pyplot as plt\n",
        "from tensorflow.keras import layers"
      ]
    },
    {
      "cell_type": "code",
      "source": [
        "!git clone https://github.com/Franck-Dernoncourt/pubmed-rct.git\n",
        "!ls pubmed-rct"
      ],
      "metadata": {
        "colab": {
          "base_uri": "https://localhost:8080/"
        },
        "id": "S-BY_Zat0WFZ",
        "outputId": "78cb2e38-9c13-4287-905f-4244b1e4c582"
      },
      "execution_count": 2,
      "outputs": [
        {
          "output_type": "stream",
          "name": "stdout",
          "text": [
            "Cloning into 'pubmed-rct'...\n",
            "remote: Enumerating objects: 33, done.\u001b[K\n",
            "remote: Counting objects: 100% (8/8), done.\u001b[K\n",
            "remote: Compressing objects: 100% (3/3), done.\u001b[K\n",
            "remote: Total 33 (delta 5), reused 5 (delta 5), pack-reused 25\u001b[K\n",
            "Unpacking objects: 100% (33/33), done.\n",
            "Checking out files: 100% (13/13), done.\n",
            "PubMed_200k_RCT\n",
            "PubMed_200k_RCT_numbers_replaced_with_at_sign\n",
            "PubMed_20k_RCT\n",
            "PubMed_20k_RCT_numbers_replaced_with_at_sign\n",
            "README.md\n"
          ]
        }
      ]
    },
    {
      "cell_type": "code",
      "source": [
        "data_dir = \"pubmed-rct/PubMed_20k_RCT_numbers_replaced_with_at_sign/\""
      ],
      "metadata": {
        "id": "JoS1MJ850aeH"
      },
      "execution_count": 3,
      "outputs": []
    },
    {
      "cell_type": "code",
      "source": [
        "import os\n",
        "\n",
        "os.listdir(data_dir)"
      ],
      "metadata": {
        "colab": {
          "base_uri": "https://localhost:8080/"
        },
        "id": "j7CgIrjg0fMe",
        "outputId": "c3977bad-b79f-4809-bf23-5b21f4f4c11a"
      },
      "execution_count": 4,
      "outputs": [
        {
          "output_type": "execute_result",
          "data": {
            "text/plain": [
              "['test.txt', 'dev.txt', 'train.txt']"
            ]
          },
          "metadata": {},
          "execution_count": 4
        }
      ]
    },
    {
      "cell_type": "code",
      "source": [
        "train_dir = os.path.join(data_dir, 'train.txt')\n",
        "test_dir = os.path.join(data_dir, 'dev.txt')"
      ],
      "metadata": {
        "id": "UIZEzPZZ0jbH"
      },
      "execution_count": 5,
      "outputs": []
    },
    {
      "cell_type": "code",
      "source": [
        "with open(train_dir, 'r') as f:\n",
        "  raw_data_train = f.readlines() \n",
        "\n",
        "with open(test_dir, 'r') as f:\n",
        "  raw_data_test = f.readlines() "
      ],
      "metadata": {
        "id": "-E2xh-ma0slU"
      },
      "execution_count": 6,
      "outputs": []
    },
    {
      "cell_type": "code",
      "source": [
        "def sort_article(data):\n",
        "  data_list = []\n",
        "  article = []\n",
        "  for line in data:\n",
        "    article.append(line)\n",
        "    if line.isspace():\n",
        "      data_list.append(article)\n",
        "      article = []\n",
        "  return data_list"
      ],
      "metadata": {
        "id": "95eVWbRb0xAW"
      },
      "execution_count": 7,
      "outputs": []
    },
    {
      "cell_type": "code",
      "source": [
        "def to_dic_list(data):\n",
        "\n",
        "  data_list = sort_article(data)\n",
        "  data_dir_list = []\n",
        "  for article in data_list:\n",
        "    for i, line in enumerate(article[1:len(article)-1]):\n",
        "      data_dir = {}\n",
        "      line_split = line.split('\\t')\n",
        "      data_dir['target'] = line_split[0]\n",
        "      data_dir['text'] = line_split[1].strip()\n",
        "      data_dir['total_lines'] = len(article)-3\n",
        "      data_dir['line_number'] = i\n",
        "      data_dir_list.append(data_dir)\n",
        "  return data_dir_list"
      ],
      "metadata": {
        "id": "TFu3fFtr00lj"
      },
      "execution_count": 8,
      "outputs": []
    },
    {
      "cell_type": "code",
      "source": [
        "train_list = to_dic_list(raw_data_train)\n",
        "test_list = to_dic_list(raw_data_test)"
      ],
      "metadata": {
        "id": "nkj7GzNM021U"
      },
      "execution_count": 9,
      "outputs": []
    },
    {
      "cell_type": "code",
      "source": [
        "train_df = pd.DataFrame(train_list)\n",
        "test_df = pd.DataFrame(test_list)"
      ],
      "metadata": {
        "id": "aUF9-BFY07Kx"
      },
      "execution_count": 10,
      "outputs": []
    },
    {
      "cell_type": "code",
      "source": [
        "train_text = train_df['text'].to_numpy() \n",
        "train_target = train_df['target'].to_numpy()\n",
        "train_line_numbers = train_df['line_number'].to_numpy()\n",
        "train_total_lines = train_df['total_lines'].to_numpy()"
      ],
      "metadata": {
        "id": "l-fk91Hn0_RG"
      },
      "execution_count": 11,
      "outputs": []
    },
    {
      "cell_type": "code",
      "source": [
        "test_text = test_df['text'].to_numpy() \n",
        "test_target = test_df['target'].to_numpy()\n",
        "test_line_numbers = test_df['line_number'].to_numpy()\n",
        "test_total_lines = test_df['total_lines'].to_numpy()"
      ],
      "metadata": {
        "id": "dgnGpPDn4cr_"
      },
      "execution_count": 12,
      "outputs": []
    },
    {
      "cell_type": "code",
      "source": [
        "from sklearn import preprocessing\n",
        "\n",
        "le = preprocessing.LabelEncoder()\n",
        "train_target_le = le.fit_transform(train_df['target'].to_list())\n",
        "test_target_le = le.transform(test_df['target'].to_list())"
      ],
      "metadata": {
        "id": "CwEHs97W1HD5"
      },
      "execution_count": 13,
      "outputs": []
    },
    {
      "cell_type": "code",
      "source": [
        "from sklearn.metrics import precision_recall_fscore_support\n",
        "from sklearn.metrics import accuracy_score\n",
        "\n",
        "def evaluate_results(y_true, y_pred):\n",
        "  model_accuracy = accuracy_score(y_true, y_pred)\n",
        "  model_precision, model_recall, model_fscore, _ = precision_recall_fscore_support(y_true, y_pred, average='weighted')\n",
        "  model_result = {'model_accuracy': model_accuracy,\n",
        "                  'model_precision': model_precision,\n",
        "                  'model_recall': model_recall,\n",
        "                  'model_fscore': model_fscore}\n",
        "  return model_result"
      ],
      "metadata": {
        "id": "Guq0rRt91Lfk"
      },
      "execution_count": 14,
      "outputs": []
    },
    {
      "cell_type": "code",
      "source": [
        "sentences_length_token = [len(sentences.split()) for sentences in train_df['text'].to_list()]\n",
        "plt.hist(sentences_length_token, bins=50)\n",
        "print(f'Token vectorizaion mean length: {np.mean(sentences_length_token):.2f}')\n",
        "output_sen_len_token = int(np.percentile(sentences_length_token, 95))\n",
        "print(f'Length that cover 95% of the samples: {output_sen_len_token}')"
      ],
      "metadata": {
        "colab": {
          "base_uri": "https://localhost:8080/",
          "height": 300
        },
        "id": "MmLrcwVE1xy5",
        "outputId": "6700309a-397f-4f7a-d49e-4acdded01219"
      },
      "execution_count": 15,
      "outputs": [
        {
          "output_type": "stream",
          "name": "stdout",
          "text": [
            "Token vectorizaion mean length: 26.34\n",
            "Length that cover 95% of the samples: 55\n"
          ]
        },
        {
          "output_type": "display_data",
          "data": {
            "text/plain": [
              "<Figure size 432x288 with 1 Axes>"
            ],
            "image/png": "[encoded data removed]"
          },
          "metadata": {
            "needs_background": "light"
          }
        }
      ]
    },
    {
      "cell_type": "code",
      "source": [
        "sentences_length_char = [len(sentences) for sentences in train_df['text'].to_list()]\n",
        "plt.hist(sentences_length_char, bins=50)\n",
        "print(f'Character vectorizaion mean length: {np.mean(sentences_length_char):.2f}')\n",
        "output_sen_len_char = int(np.percentile(sentences_length_char, 95))\n",
        "print(f'Length that cover 95% of the samples: {output_sen_len_char}')"
      ],
      "metadata": {
        "colab": {
          "base_uri": "https://localhost:8080/",
          "height": 300
        },
        "id": "rfRIFqd01QeK",
        "outputId": "e45d0968-cd08-44bd-a77f-27297c812115"
      },
      "execution_count": 16,
      "outputs": [
        {
          "output_type": "stream",
          "name": "stdout",
          "text": [
            "Character vectorizaion mean length: 149.37\n",
            "Length that cover 95% of the samples: 290\n"
          ]
        },
        {
          "output_type": "display_data",
          "data": {
            "text/plain": [
              "<Figure size 432x288 with 1 Axes>"
            ],
            "image/png": "[encoded data removed]"
          },
          "metadata": {
            "needs_background": "light"
          }
        }
      ]
    },
    {
      "cell_type": "code",
      "source": [
        "token_vectorizer = layers.TextVectorization(max_tokens=68000,\n",
        "                                            output_sequence_length=output_sen_len_token,\n",
        "                                            name='token_vectorizer')\n",
        "token_vectorizer.adapt(train_text)"
      ],
      "metadata": {
        "id": "T-11cdwM1XO5"
      },
      "execution_count": 17,
      "outputs": []
    },
    {
      "cell_type": "code",
      "source": [
        "char_vectorizer = layers.TextVectorization(max_tokens=50,\n",
        "                                           output_sequence_length=output_sen_len_char,\n",
        "                                           split='character',\n",
        "                                           name='char_vectorizer')\n",
        "char_vectorizer.adapt(train_text)"
      ],
      "metadata": {
        "id": "5jzTW6QZ1lFx"
      },
      "execution_count": 18,
      "outputs": []
    },
    {
      "cell_type": "code",
      "source": [
        "max_length_line_number = np.percentile(train_line_numbers, 95)\n",
        "max_length_total_lines = np.percentile(train_total_lines, 95)"
      ],
      "metadata": {
        "id": "isU8ucJc3w3x"
      },
      "execution_count": 19,
      "outputs": []
    },
    {
      "cell_type": "code",
      "source": [
        "max_length_line_number, max_length_total_lines"
      ],
      "metadata": {
        "colab": {
          "base_uri": "https://localhost:8080/"
        },
        "id": "g5Z1mqjY5MHi",
        "outputId": "ec9925de-a301-4e88-98cf-a06553cdbc4b"
      },
      "execution_count": 20,
      "outputs": [
        {
          "output_type": "execute_result",
          "data": {
            "text/plain": [
              "(13.0, 18.0)"
            ]
          },
          "metadata": {},
          "execution_count": 20
        }
      ]
    },
    {
      "cell_type": "code",
      "source": [
        "train_line_numbers_one_hot = tf.one_hot(train_line_numbers, depth=16)\n",
        "test_line_numbers_one_hot = tf.one_hot(test_line_numbers, depth=16)"
      ],
      "metadata": {
        "id": "y0_ThwIK5Par"
      },
      "execution_count": 21,
      "outputs": []
    },
    {
      "cell_type": "code",
      "source": [
        "train_total_lines_one_hot = tf.one_hot(train_total_lines, depth=20)\n",
        "test_total_lines_one_hot = tf.one_hot(test_total_lines, depth=20)"
      ],
      "metadata": {
        "id": "OdHki5bB5gzc"
      },
      "execution_count": 22,
      "outputs": []
    },
    {
      "cell_type": "code",
      "source": [
        "vocab_size_token = len(token_vectorizer.get_vocabulary())\n",
        "vocab_size_char = len(char_vectorizer.get_vocabulary())\n",
        "embedding_dims_char = 24\n",
        "embedding_dims_token = 128\n",
        "LSTM_units = 64\n",
        "cnn_filters = 64\n",
        "kernel_size = 5\n",
        "output_dims = len(le.classes_)"
      ],
      "metadata": {
        "id": "HFmEeNdm3Un1"
      },
      "execution_count": 24,
      "outputs": []
    },
    {
      "cell_type": "code",
      "source": [
        "text_inputs = layers.Input(shape=(1,), dtype='string')\n",
        "char_vector = char_vectorizer(text_inputs)\n",
        "char_embed = layers.Embedding(input_dim=vocab_size_char,\n",
        "                              output_dim=embedding_dims_char,\n",
        "                              mask_zero=True)(char_vector)\n",
        "char_outputs = layers.Bidirectional(layers.LSTM(LSTM_units))(char_embed)\n",
        "char_model = tf.keras.Model(text_inputs, char_outputs)\n",
        "\n",
        "text_inputs = layers.Input(shape=(1,), dtype='string')\n",
        "token_vector = token_vectorizer(text_inputs)\n",
        "token_embed = layers.Embedding(input_dim=vocab_size_token,\n",
        "                               output_dim=embedding_dims_token,\n",
        "                               mask_zero=True)(token_vector)\n",
        "token_outputs = layers.Bidirectional(layers.LSTM(LSTM_units))(token_embed)\n",
        "token_model = tf.keras.Model(text_inputs, token_outputs)\n",
        "\n",
        "line_number_inputs = layers.Input(shape=(16,), dtype=tf.float32)\n",
        "line_number_outputs = layers.Dense(32, activation='relu')(line_number_inputs)\n",
        "line_number_model = tf.keras.Model(line_number_inputs, line_number_outputs)\n",
        "\n",
        "total_line_inputs = layers.Input(shape=(20,), dtype=tf.float32)\n",
        "total_line_outputs = layers.Dense(32, activation='relu')(total_line_inputs)\n",
        "total_line_model = tf.keras.Model(total_line_inputs, total_line_outputs)\n",
        "\n",
        "token_char_concat = layers.Concatenate(name='token_char_concat')([char_model.output,\n",
        "                                                                  token_model.output])\n",
        "token_char_dense = layers.Dense(256, activation='relu')(token_char_concat)\n",
        "token_char_dropout = layers.Dropout(0.5)(token_char_dense)\n",
        "\n",
        "all_concat = layers.Concatenate(name='all_concat')([token_char_dropout,\n",
        "                                                    line_number_model.output,\n",
        "                                                    total_line_model.output])\n",
        "output_layer = layers.Dense(output_dims)(all_concat)\n",
        "\n",
        "model_2 = tf.keras.Model(inputs=[token_model.input,\n",
        "                                 char_model.input,\n",
        "                                 line_number_model.input,\n",
        "                                 total_line_model.input],\n",
        "                         outputs=output_layer)"
      ],
      "metadata": {
        "id": "6BAo4oY33xf3"
      },
      "execution_count": 26,
      "outputs": []
    },
    {
      "cell_type": "code",
      "source": [
        "from tensorflow.keras.utils import plot_model\n",
        "plot_model(model_2, show_shapes=True)"
      ],
      "metadata": {
        "colab": {
          "base_uri": "https://localhost:8080/",
          "height": 788
        },
        "id": "H7dOfZ8ZB2K4",
        "outputId": "cb1c5502-13d8-4e06-8ea6-d36ac8beda62"
      },
      "execution_count": 27,
      "outputs": [
        {
          "output_type": "execute_result",
          "data": {
            "text/plain": [
              "<IPython.core.display.Image object>"
            ],
            "image/png": "[encoded data removed]"
          },
          "metadata": {},
          "execution_count": 27
        }
      ]
    },
    {
      "cell_type": "code",
      "source": [
        "train_concat_input = tf.data.Dataset.from_tensor_slices((train_text,\n",
        "                                                         train_text,\n",
        "                                                         train_line_numbers_one_hot,\n",
        "                                                         train_total_lines_one_hot))\n",
        "train_label = tf.data.Dataset.from_tensor_slices(train_target_le)\n",
        "train_dataset_concat = tf.data.Dataset.zip((train_concat_input, train_label)).batch(32).prefetch(tf.data.AUTOTUNE)"
      ],
      "metadata": {
        "id": "L0f1e-KXB2iq"
      },
      "execution_count": 28,
      "outputs": []
    },
    {
      "cell_type": "code",
      "source": [
        "test_concat_input = tf.data.Dataset.from_tensor_slices((test_text,\n",
        "                                                        test_text,\n",
        "                                                        test_line_numbers_one_hot,\n",
        "                                                        test_total_lines_one_hot))\n",
        "test_label = tf.data.Dataset.from_tensor_slices(test_target_le)\n",
        "test_dataset_concat = tf.data.Dataset.zip((test_concat_input, test_label)).batch(32).prefetch(tf.data.AUTOTUNE)"
      ],
      "metadata": {
        "id": "rJ1FIZeNC0Qa"
      },
      "execution_count": 29,
      "outputs": []
    },
    {
      "cell_type": "code",
      "source": [
        "train_concat_input"
      ],
      "metadata": {
        "colab": {
          "base_uri": "https://localhost:8080/"
        },
        "id": "cPT0c9R0MfJW",
        "outputId": "61809666-8c75-49e6-9bad-7780b39cfa86"
      },
      "execution_count": 61,
      "outputs": [
        {
          "output_type": "execute_result",
          "data": {
            "text/plain": [
              "<TensorSliceDataset element_spec=(TensorSpec(shape=(), dtype=tf.string, name=None), TensorSpec(shape=(), dtype=tf.string, name=None), TensorSpec(shape=(16,), dtype=tf.float32, name=None), TensorSpec(shape=(20,), dtype=tf.float32, name=None))>"
            ]
          },
          "metadata": {},
          "execution_count": 61
        }
      ]
    },
    {
      "cell_type": "code",
      "source": [
        "model_2.compile(loss=tf.keras.losses.SparseCategoricalCrossentropy(from_logits=True),\n",
        "                optimizer=tf.keras.optimizers.Adam(),\n",
        "                metrics=['accuracy'])"
      ],
      "metadata": {
        "id": "EJ0xCK5_DCWo"
      },
      "execution_count": 31,
      "outputs": []
    },
    {
      "cell_type": "code",
      "source": [
        "history_2 = model_2.fit(train_dataset_concat,\n",
        "                        epochs=3,\n",
        "                        steps_per_epoch=int(0.1*len(train_dataset_concat)),\n",
        "                        validation_data=test_dataset_concat,\n",
        "                        validation_steps=int(0.1*(len(test_dataset_concat))))"
      ],
      "metadata": {
        "colab": {
          "base_uri": "https://localhost:8080/"
        },
        "id": "xyxg0O6uDcyZ",
        "outputId": "afa7a6a4-5121-4401-fcc6-ebf7f2e1a633"
      },
      "execution_count": 32,
      "outputs": [
        {
          "output_type": "stream",
          "name": "stdout",
          "text": [
            "Epoch 1/3\n",
            "562/562 [==============================] - 362s 612ms/step - loss: 0.6866 - accuracy: 0.7343 - val_loss: 0.4550 - val_accuracy: 0.8348\n",
            "Epoch 2/3\n",
            "562/562 [==============================] - 365s 649ms/step - loss: 0.4382 - accuracy: 0.8401 - val_loss: 0.4191 - val_accuracy: 0.8305\n",
            "Epoch 3/3\n",
            "562/562 [==============================] - 383s 681ms/step - loss: 0.3982 - accuracy: 0.8485 - val_loss: 0.3845 - val_accuracy: 0.8497\n"
          ]
        }
      ]
    },
    {
      "cell_type": "markdown",
      "source": [
        "#Evaluation"
      ],
      "metadata": {
        "id": "U5eFUva7hlO7"
      }
    },
    {
      "cell_type": "code",
      "source": [
        "model_2.evaluate(test_dataset_concat)"
      ],
      "metadata": {
        "colab": {
          "base_uri": "https://localhost:8080/"
        },
        "id": "sQeXclXMDqhH",
        "outputId": "987e7eaa-bbd1-452a-a176-347f2cadcb42"
      },
      "execution_count": 39,
      "outputs": [
        {
          "output_type": "stream",
          "name": "stdout",
          "text": [
            "945/945 [==============================] - 103s 108ms/step - loss: 0.3817 - accuracy: 0.8502\n"
          ]
        },
        {
          "output_type": "execute_result",
          "data": {
            "text/plain": [
              "[0.38172683119773865, 0.8501588702201843]"
            ]
          },
          "metadata": {},
          "execution_count": 39
        }
      ]
    },
    {
      "cell_type": "code",
      "source": [
        "pred_pros = model_2.predict(test_dataset_concat)\n",
        "pred_pros"
      ],
      "metadata": {
        "colab": {
          "base_uri": "https://localhost:8080/"
        },
        "id": "LJzTmwlUgZkc",
        "outputId": "ddd0068d-3a27-4086-c04a-19a2506980d5"
      },
      "execution_count": 121,
      "outputs": [
        {
          "output_type": "execute_result",
          "data": {
            "text/plain": [
              "array([[ 2.5619519 , -2.823979  , -2.3851016 ,  3.1435158 , -4.662818  ],\n",
              "       [ 1.6023132 , -1.1199312 , -3.0602255 ,  1.6120697 , -4.583798  ],\n",
              "       [ 2.023659  , -3.8113563 , -2.3228364 ,  3.6546202 , -6.370938  ],\n",
              "       ...,\n",
              "       [-5.750687  ,  0.9264402 ,  1.2089107 , -7.9861555 ,  6.1930976 ],\n",
              "       [-1.652374  ,  3.8933506 , -3.0618467 , -3.7376018 ,  0.39106873],\n",
              "       [-0.78821343,  3.4702783 , -2.6109796 , -3.476771  , -0.9028644 ]],\n",
              "      dtype=float32)"
            ]
          },
          "metadata": {},
          "execution_count": 121
        }
      ]
    },
    {
      "cell_type": "code",
      "source": [
        "test_preds = tf.argmax(pred_pros, axis=1)\n",
        "test_preds"
      ],
      "metadata": {
        "colab": {
          "base_uri": "https://localhost:8080/"
        },
        "id": "SewigvmygyiJ",
        "outputId": "039c79c3-53a0-47ad-caa1-29dfa6310413"
      },
      "execution_count": 125,
      "outputs": [
        {
          "output_type": "execute_result",
          "data": {
            "text/plain": [
              "<tf.Tensor: shape=(30212,), dtype=int64, numpy=array([3, 3, 3, ..., 4, 1, 1])>"
            ]
          },
          "metadata": {},
          "execution_count": 125
        }
      ]
    },
    {
      "cell_type": "code",
      "source": [
        "test_target_le[:10]"
      ],
      "metadata": {
        "colab": {
          "base_uri": "https://localhost:8080/"
        },
        "id": "kuP2nyeAg7lK",
        "outputId": "a915a4e7-fb72-4b45-eb5f-b47980223836"
      },
      "execution_count": 122,
      "outputs": [
        {
          "output_type": "execute_result",
          "data": {
            "text/plain": [
              "array([0, 0, 3, 2, 2, 4, 4, 4, 4, 1])"
            ]
          },
          "metadata": {},
          "execution_count": 122
        }
      ]
    },
    {
      "cell_type": "code",
      "source": [
        "evaluate_results(test_target_le, test_preds)"
      ],
      "metadata": {
        "colab": {
          "base_uri": "https://localhost:8080/"
        },
        "id": "_O40uZ6yhDXG",
        "outputId": "9238006f-d5c1-40da-aec9-fa5c7de4264a"
      },
      "execution_count": 126,
      "outputs": [
        {
          "output_type": "execute_result",
          "data": {
            "text/plain": [
              "{'model_accuracy': 0.850158877267311,\n",
              " 'model_fscore': 0.8503310742111122,\n",
              " 'model_precision': 0.8520094874365313,\n",
              " 'model_recall': 0.850158877267311}"
            ]
          },
          "metadata": {},
          "execution_count": 126
        }
      ]
    },
    {
      "cell_type": "markdown",
      "source": [
        "#Predict on test data"
      ],
      "metadata": {
        "id": "wB6B9hEnhrSL"
      }
    },
    {
      "cell_type": "code",
      "source": [
        "#Predict on dataset\n",
        "example_dataset = tf.data.Dataset.zip((test_concat_input, test_label)).batch(1).take(1)\n",
        "pred_pro = model_2.predict(example_dataset)\n",
        "example_dataset, pred_pro"
      ],
      "metadata": {
        "colab": {
          "base_uri": "https://localhost:8080/"
        },
        "id": "Tdx6uAcLRsQU",
        "outputId": "115c3523-59a8-42ae-b7a5-569ac0a57182"
      },
      "execution_count": 155,
      "outputs": [
        {
          "output_type": "execute_result",
          "data": {
            "text/plain": [
              "(<TakeDataset element_spec=((TensorSpec(shape=(None,), dtype=tf.string, name=None), TensorSpec(shape=(None,), dtype=tf.string, name=None), TensorSpec(shape=(None, 16), dtype=tf.float32, name=None), TensorSpec(shape=(None, 20), dtype=tf.float32, name=None)), TensorSpec(shape=(None,), dtype=tf.int64, name=None))>,\n",
              " array([[ 2.561952 , -2.8239787, -2.3851013,  3.1435158, -4.6628175]],\n",
              "       dtype=float32))"
            ]
          },
          "metadata": {},
          "execution_count": 155
        }
      ]
    },
    {
      "cell_type": "code",
      "source": [
        "test_concat_input.take(1)"
      ],
      "metadata": {
        "colab": {
          "base_uri": "https://localhost:8080/"
        },
        "id": "IgNwFCl5iWBe",
        "outputId": "a68f298d-d1e5-42da-80e6-2b6258113818"
      },
      "execution_count": 156,
      "outputs": [
        {
          "output_type": "execute_result",
          "data": {
            "text/plain": [
              "<TakeDataset element_spec=(TensorSpec(shape=(), dtype=tf.string, name=None), TensorSpec(shape=(), dtype=tf.string, name=None), TensorSpec(shape=(16,), dtype=tf.float32, name=None), TensorSpec(shape=(20,), dtype=tf.float32, name=None))>"
            ]
          },
          "metadata": {},
          "execution_count": 156
        }
      ]
    },
    {
      "cell_type": "code",
      "source": [
        "#Predict on tensor\n",
        "for input, _, line_number, total_lines in test_concat_input.take(1):\n",
        "  pred_pro = model_2((tf.expand_dims(input, axis=0),\n",
        "                      tf.expand_dims(input, axis=0),\n",
        "                      tf.expand_dims(line_number, axis=0),\n",
        "                      tf.expand_dims(total_lines, axis=0)))\n",
        "  print(pred_pro)"
      ],
      "metadata": {
        "colab": {
          "base_uri": "https://localhost:8080/"
        },
        "id": "HwWFMtl7fE77",
        "outputId": "52fda208-d041-421d-e0bf-25cbf0439ada"
      },
      "execution_count": 157,
      "outputs": [
        {
          "output_type": "stream",
          "name": "stdout",
          "text": [
            "tf.Tensor([[ 2.561952  -2.8239787 -2.3851013  3.1435158 -4.6628175]], shape=(1, 5), dtype=float32)\n"
          ]
        }
      ]
    },
    {
      "cell_type": "code",
      "source": [
        "#Predict on text + line number + total line\n",
        "test_df.head()"
      ],
      "metadata": {
        "colab": {
          "base_uri": "https://localhost:8080/",
          "height": 206
        },
        "id": "iGk7ScqNG7oG",
        "outputId": "db3c33c7-b99b-42ee-d2ca-0eeb8a503d4d"
      },
      "execution_count": 158,
      "outputs": [
        {
          "output_type": "execute_result",
          "data": {
            "text/plain": [
              "       target                                               text  total_lines  \\\n",
              "0  BACKGROUND  IgE sensitization to Aspergillus fumigatus and...            9   \n",
              "1  BACKGROUND  It is not clear whether these patients would b...            9   \n",
              "2   OBJECTIVE  We sought to determine whether a @-month cours...            9   \n",
              "3     METHODS  Asthmatic patients who were IgE sensitized to ...            9   \n",
              "4     METHODS  Primary outcomes were improvement in quality o...            9   \n",
              "\n",
              "   line_number  \n",
              "0            0  \n",
              "1            1  \n",
              "2            2  \n",
              "3            3  \n",
              "4            4  "
            ],
            "text/html": [
              "\n",
              "  <div id=\"df-35de09e4-2bd6-497d-865f-fde4eeae370a\">\n",
              "    <div class=\"colab-df-container\">\n",
              "      <div>\n",
              "<style scoped>\n",
              "    .dataframe tbody tr th:only-of-type {\n",
              "        vertical-align: middle;\n",
              "    }\n",
              "\n",
              "    .dataframe tbody tr th {\n",
              "        vertical-align: top;\n",
              "    }\n",
              "\n",
              "    .dataframe thead th {\n",
              "        text-align: right;\n",
              "    }\n",
              "</style>\n",
              "<table border=\"1\" class=\"dataframe\">\n",
              "  <thead>\n",
              "    <tr style=\"text-align: right;\">\n",
              "      <th></th>\n",
              "      <th>target</th>\n",
              "      <th>text</th>\n",
              "      <th>total_lines</th>\n",
              "      <th>line_number</th>\n",
              "    </tr>\n",
              "  </thead>\n",
              "  <tbody>\n",
              "    <tr>\n",
              "      <th>0</th>\n",
              "      <td>BACKGROUND</td>\n",
              "      <td>IgE sensitization to Aspergillus fumigatus and...</td>\n",
              "      <td>9</td>\n",
              "      <td>0</td>\n",
              "    </tr>\n",
              "    <tr>\n",
              "      <th>1</th>\n",
              "      <td>BACKGROUND</td>\n",
              "      <td>It is not clear whether these patients would b...</td>\n",
              "      <td>9</td>\n",
              "      <td>1</td>\n",
              "    </tr>\n",
              "    <tr>\n",
              "      <th>2</th>\n",
              "      <td>OBJECTIVE</td>\n",
              "      <td>We sought to determine whether a @-month cours...</td>\n",
              "      <td>9</td>\n",
              "      <td>2</td>\n",
              "    </tr>\n",
              "    <tr>\n",
              "      <th>3</th>\n",
              "      <td>METHODS</td>\n",
              "      <td>Asthmatic patients who were IgE sensitized to ...</td>\n",
              "      <td>9</td>\n",
              "      <td>3</td>\n",
              "    </tr>\n",
              "    <tr>\n",
              "      <th>4</th>\n",
              "      <td>METHODS</td>\n",
              "      <td>Primary outcomes were improvement in quality o...</td>\n",
              "      <td>9</td>\n",
              "      <td>4</td>\n",
              "    </tr>\n",
              "  </tbody>\n",
              "</table>\n",
              "</div>\n",
              "      <button class=\"colab-df-convert\" onclick=\"convertToInteractive('df-35de09e4-2bd6-497d-865f-fde4eeae370a')\"\n",
              "              title=\"Convert this dataframe to an interactive table.\"\n",
              "              style=\"display:none;\">\n",
              "        \n",
              "  <svg xmlns=\"http://www.w3.org/2000/svg\" height=\"24px\"viewBox=\"0 0 24 24\"\n",
              "       width=\"24px\">\n",
              "    <path d=\"M0 0h24v24H0V0z\" fill=\"none\"/>\n",
              "    <path d=\"M18.56 5.44l.94 2.06.94-2.06 2.06-.94-2.06-.94-.94-2.06-.94 2.06-2.06.94zm-11 1L8.5 8.5l.94-2.06 2.06-.94-2.06-.94L8.5 2.5l-.94 2.06-2.06.94zm10 10l.94 2.06.94-2.06 2.06-.94-2.06-.94-.94-2.06-.94 2.06-2.06.94z\"/><path d=\"M17.41 7.96l-1.37-1.37c-.4-.4-.92-.59-1.43-.59-.52 0-1.04.2-1.43.59L10.3 9.45l-7.72 7.72c-.78.78-.78 2.05 0 2.83L4 21.41c.39.39.9.59 1.41.59.51 0 1.02-.2 1.41-.59l7.78-7.78 2.81-2.81c.8-.78.8-2.07 0-2.86zM5.41 20L4 18.59l7.72-7.72 1.47 1.35L5.41 20z\"/>\n",
              "  </svg>\n",
              "      </button>\n",
              "      \n",
              "  <style>\n",
              "    .colab-df-container {\n",
              "      display:flex;\n",
              "      flex-wrap:wrap;\n",
              "      gap: 12px;\n",
              "    }\n",
              "\n",
              "    .colab-df-convert {\n",
              "      background-color: #E8F0FE;\n",
              "      border: none;\n",
              "      border-radius: 50%;\n",
              "      cursor: pointer;\n",
              "      display: none;\n",
              "      fill: #1967D2;\n",
              "      height: 32px;\n",
              "      padding: 0 0 0 0;\n",
              "      width: 32px;\n",
              "    }\n",
              "\n",
              "    .colab-df-convert:hover {\n",
              "      background-color: #E2EBFA;\n",
              "      box-shadow: 0px 1px 2px rgba(60, 64, 67, 0.3), 0px 1px 3px 1px rgba(60, 64, 67, 0.15);\n",
              "      fill: #174EA6;\n",
              "    }\n",
              "\n",
              "    [theme=dark] .colab-df-convert {\n",
              "      background-color: #3B4455;\n",
              "      fill: #D2E3FC;\n",
              "    }\n",
              "\n",
              "    [theme=dark] .colab-df-convert:hover {\n",
              "      background-color: #434B5C;\n",
              "      box-shadow: 0px 1px 3px 1px rgba(0, 0, 0, 0.15);\n",
              "      filter: drop-shadow(0px 1px 2px rgba(0, 0, 0, 0.3));\n",
              "      fill: #FFFFFF;\n",
              "    }\n",
              "  </style>\n",
              "\n",
              "      <script>\n",
              "        const buttonEl =\n",
              "          document.querySelector('#df-35de09e4-2bd6-497d-865f-fde4eeae370a button.colab-df-convert');\n",
              "        buttonEl.style.display =\n",
              "          google.colab.kernel.accessAllowed ? 'block' : 'none';\n",
              "\n",
              "        async function convertToInteractive(key) {\n",
              "          const element = document.querySelector('#df-35de09e4-2bd6-497d-865f-fde4eeae370a');\n",
              "          const dataTable =\n",
              "            await google.colab.kernel.invokeFunction('convertToInteractive',\n",
              "                                                     [key], {});\n",
              "          if (!dataTable) return;\n",
              "\n",
              "          const docLinkHtml = 'Like what you see? Visit the ' +\n",
              "            '<a target=\"_blank\" href=https://colab.research.google.com/notebooks/data_table.ipynb>data table notebook</a>'\n",
              "            + ' to learn more about interactive tables.';\n",
              "          element.innerHTML = '';\n",
              "          dataTable['output_type'] = 'display_data';\n",
              "          await google.colab.output.renderOutput(dataTable, element);\n",
              "          const docLink = document.createElement('div');\n",
              "          docLink.innerHTML = docLinkHtml;\n",
              "          element.appendChild(docLink);\n",
              "        }\n",
              "      </script>\n",
              "    </div>\n",
              "  </div>\n",
              "  "
            ]
          },
          "metadata": {},
          "execution_count": 158
        }
      ]
    },
    {
      "cell_type": "code",
      "source": [
        "example_string = test_df.loc[0, 'text']\n",
        "example_total_lines = test_df.loc[0, 'total_lines']\n",
        "example_line_number = test_df.loc[0, 'line_number']\n",
        "\n",
        "print(f'Input String: {example_string}')\n",
        "print(f'Total lines: {example_total_lines}, Line number: {example_line_number}')"
      ],
      "metadata": {
        "colab": {
          "base_uri": "https://localhost:8080/"
        },
        "id": "Q84IedUHJyWR",
        "outputId": "5b797e7f-8587-4e6d-b9c0-6b7039b7ccda"
      },
      "execution_count": 159,
      "outputs": [
        {
          "output_type": "stream",
          "name": "stdout",
          "text": [
            "Input String: IgE sensitization to Aspergillus fumigatus and a positive sputum fungal culture result are common in patients with refractory asthma .\n",
            "Total lines: 9, Line number: 0\n"
          ]
        }
      ]
    },
    {
      "cell_type": "code",
      "source": [
        "line_number_one_hot = tf.one_hot(example_line_number, 16)\n",
        "total_lines_one_hot = tf.one_hot(example_total_lines, 20)"
      ],
      "metadata": {
        "id": "qHORMWwdoiJn"
      },
      "execution_count": 161,
      "outputs": []
    },
    {
      "cell_type": "code",
      "source": [
        "pred_pro = model_2((tf.expand_dims(example_string, axis=0),\n",
        "                    tf.expand_dims(example_string, axis=0),\n",
        "                    tf.expand_dims(line_number_one_hot, axis=0),\n",
        "                    tf.expand_dims(total_lines_one_hot, axis=0)))\n",
        "print(pred_pro)"
      ],
      "metadata": {
        "colab": {
          "base_uri": "https://localhost:8080/"
        },
        "id": "NTkaR5CMVsvg",
        "outputId": "745d9d48-467a-4223-fca1-444467354a26"
      },
      "execution_count": 162,
      "outputs": [
        {
          "output_type": "stream",
          "name": "stdout",
          "text": [
            "tf.Tensor([[ 2.561952  -2.8239787 -2.3851013  3.1435158 -4.6628175]], shape=(1, 5), dtype=float32)\n"
          ]
        }
      ]
    },
    {
      "cell_type": "code",
      "source": [
        "def make_prediction(input_string, line_number, total_lines):\n",
        "\n",
        "  line_number_one_hot = tf.one_hot(line_number, 16)\n",
        "  total_lines_one_hot = tf.one_hot(total_lines, 20)\n",
        "  \n",
        "  pred_pro = model_2((tf.expand_dims(input_string, axis=0),\n",
        "                    tf.expand_dims(input_string, axis=0),\n",
        "                    tf.expand_dims(line_number_one_hot, axis=0),\n",
        "                    tf.expand_dims(total_lines_one_hot, axis=0)))\n",
        "\n",
        "  return pred_pro"
      ],
      "metadata": {
        "id": "b9QMF9-nGI0_"
      },
      "execution_count": 163,
      "outputs": []
    },
    {
      "cell_type": "code",
      "source": [
        "make_prediction(example_string,\n",
        "                example_line_number,\n",
        "                example_total_lines)"
      ],
      "metadata": {
        "colab": {
          "base_uri": "https://localhost:8080/"
        },
        "id": "f0Iej0Egodyg",
        "outputId": "34ec18b8-adcd-40f7-82e1-a427901f1007"
      },
      "execution_count": 164,
      "outputs": [
        {
          "output_type": "execute_result",
          "data": {
            "text/plain": [
              "<tf.Tensor: shape=(1, 5), dtype=float32, numpy=\n",
              "array([[ 2.561952 , -2.8239787, -2.3851013,  3.1435158, -4.6628175]],\n",
              "      dtype=float32)>"
            ]
          },
          "metadata": {},
          "execution_count": 164
        }
      ]
    }
  ]
}